{
  "cells": [
    {
      "cell_type": "markdown",
      "metadata": {
        "id": "view-in-github",
        "colab_type": "text"
      },
      "source": [
        "<a href=\"https://colab.research.google.com/github/pachterlab/seqspec/blob/main/examples/seqspec_dev2.ipynb\" target=\"_parent\"><img src=\"https://colab.research.google.com/assets/colab-badge.svg\" alt=\"Open In Colab\"/></a>"
      ]
    },
    {
      "cell_type": "code",
      "execution_count": 2,
      "metadata": {
        "colab": {
          "base_uri": "https://localhost:8080/"
        },
        "id": "lIYdn1woOS1n",
        "outputId": "881f1d1d-50ec-41cf-cfdb-7e198f66f705"
      },
      "outputs": [
        {
          "output_type": "stream",
          "name": "stdout",
          "text": [
            "Cloning into 'seqspec'...\n",
            "remote: Enumerating objects: 1400, done.\u001b[K\n",
            "remote: Counting objects: 100% (578/578), done.\u001b[K\n",
            "remote: Compressing objects: 100% (294/294), done.\u001b[K\n",
            "remote: Total 1400 (delta 365), reused 457 (delta 280), pack-reused 822\u001b[K\n",
            "Receiving objects: 100% (1400/1400), 5.66 MiB | 10.59 MiB/s, done.\n",
            "Resolving deltas: 100% (886/886), done.\n",
            "Branch 'libspec' set up to track remote branch 'libspec' from 'origin'.\n",
            "Switched to a new branch 'libspec'\n",
            "  Preparing metadata (setup.py) ... \u001b[?25l\u001b[?25hdone\n",
            "\u001b[2K     \u001b[90m━━━━━━━━━━━━━━━━━━━━━━━━━━━━━━━━━━━━━━━━\u001b[0m \u001b[32m3.1/3.1 MB\u001b[0m \u001b[31m32.0 MB/s\u001b[0m eta \u001b[36m0:00:00\u001b[0m\n",
            "\u001b[?25h  Building wheel for seqspec (setup.py) ... \u001b[?25l\u001b[?25hdone\n"
          ]
        }
      ],
      "source": [
        "!rm -rf seqspec\n",
        "!git clone https://github.com/pachterlab/seqspec.git\n",
        "!cd seqspec && git checkout libspec && pip install --quiet ."
      ]
    },
    {
      "cell_type": "code",
      "source": [
        "from seqspec.utils import load_spec"
      ],
      "metadata": {
        "id": "bG4zo6a2Cwpz"
      },
      "execution_count": 3,
      "outputs": []
    },
    {
      "cell_type": "code",
      "source": [],
      "metadata": {
        "id": "iSY_wX_BB44D"
      },
      "execution_count": 6,
      "outputs": []
    },
    {
      "cell_type": "code",
      "source": [
        "spec.sequence_spec"
      ],
      "metadata": {
        "id": "_Aqmcu6vCzcc",
        "outputId": "ac729dab-4fe0-48fc-f1d3-b2d05fe31732",
        "colab": {
          "base_uri": "https://localhost:8080/"
        }
      },
      "execution_count": 8,
      "outputs": [
        {
          "output_type": "execute_result",
          "data": {
            "text/plain": [
              "[{'read_id': 'R1.fastq.gz', 'read_name': 'Read 1', 'modality': 'rna', 'primer_id': 'truseq_read1', 'min_len': 28, 'max_len': 28, 'strand': 'pos'},\n",
              " {'read_id': 'R2.fastq.gz', 'read_name': 'Read 2', 'modality': 'rna', 'primer_id': 'truseq_read2', 'min_len': 1, 'max_len': 98, 'strand': 'pos'},\n",
              " {'read_id': 'I1.fastq.gz', 'read_name': 'Index 1', 'modality': 'rna', 'primer_id': 'truseq_read2', 'min_len': 8, 'max_len': 8, 'strand': 'neg'}]"
            ]
          },
          "metadata": {},
          "execution_count": 8
        }
      ]
    },
    {
      "cell_type": "code",
      "source": [
        "def get_cuts(regions, cuts=[]):\n",
        "    if not cuts:\n",
        "        cuts = []\n",
        "    prev = 0\n",
        "    for r in regions:\n",
        "        nxt = prev + r.max_len\n",
        "        cuts.append((prev, nxt))\n",
        "        prev = nxt\n",
        "    return cuts"
      ],
      "metadata": {
        "id": "pmTUPyXdFPta"
      },
      "execution_count": 23,
      "outputs": []
    },
    {
      "cell_type": "code",
      "source": [
        "from collections import defaultdict"
      ],
      "metadata": {
        "id": "2fDdat1SFjMW"
      },
      "execution_count": 29,
      "outputs": []
    },
    {
      "cell_type": "code",
      "source": [
        "# testing out index functionality\n",
        "spec_fn = \"seqspec/lib_test.yaml\"\n",
        "\n",
        "reads = [\"R1.fastq.gz\"]\n",
        "spec = load_spec(spec_fn)\n",
        "modality = \"rna\"\n",
        "read_id = reads[0]\n",
        "rev = False\n",
        "\n",
        "## Start function\n",
        "index = defaultdict()\n",
        "\n",
        "# get all atomic elements from library\n",
        "leaves = spec.get_modality(modality).get_leaves()\n",
        "\n",
        "# get the read object and primer id\n",
        "read = [i for i in spec.sequence_spec if i.read_id == read_id][0]\n",
        "primer_id = read.primer_id\n",
        "\n",
        "# get the index of the primer in the list of leaves (ASSUMPTION, 5'->3' and primer is an atomic element)\n",
        "primer_idx = [i for i, l in enumerate(leaves) if l.region_id == primer_id][0]\n",
        "\n",
        "# If we are on the opposite strand, we go in the opposite way\n",
        "if rev:\n",
        "    rgn = leaves[:primer_idx][::-1]\n",
        "else:\n",
        "    rgn = leaves[primer_idx + 1:]\n",
        "\n",
        "# get the cuts for all of the atomic elements (tuples of 0-indexed start stop)\n",
        "cuts = get_cuts(rgn)\n",
        "\n",
        "# associate each cut with its region type\n",
        "for idx, r in enumerate(rgn):\n",
        "    t = r.region_type\n",
        "    c = cuts[idx]\n",
        "    index[c] = t"
      ],
      "metadata": {
        "id": "iVN1oS0wC64p"
      },
      "execution_count": 44,
      "outputs": []
    },
    {
      "cell_type": "code",
      "source": [
        "# Now that we have the cuts, we have to do an interval intersection\n",
        "# given the interval of the read (0, max_cycles)\n",
        "# return the intersection with the indexed elements"
      ],
      "metadata": {
        "id": "cR82hMdsFsLp"
      },
      "execution_count": 45,
      "outputs": []
    },
    {
      "cell_type": "code",
      "source": [
        "index = {(0, 16): 'barcode',\n",
        "             (16, 27): 'umi',\n",
        "             (28, 29): 'umi2',\n",
        "             (29, 126): 'cdna',\n",
        "             (126, 160): 'truseq_read2',\n",
        "             (160, 168): 'index7',\n",
        "             (168, 192): 'illumina_p7'}"
      ],
      "metadata": {
        "id": "iU4W9CatJslK"
      },
      "execution_count": 74,
      "outputs": []
    },
    {
      "cell_type": "code",
      "source": [
        "# get max cycles from read by read id\n",
        "read_itv = (0, read.max_len)\n",
        "read_stop = read_itv[1]\n",
        "new_index = defaultdict()\n",
        "\n",
        "# three cases\n",
        "for (itv_start, itv_stop), e in index.items():\n",
        "\n",
        "  # A: read is shorter than itv_start of next element\n",
        "  if read_stop < itv_start:\n",
        "    continue\n",
        "\n",
        "  # B: read splits an element (same as case c)\n",
        "  elif read_stop >= itv_start:\n",
        "    new_index[itv_start, min(itv_stop, read_stop)] = e"
      ],
      "metadata": {
        "id": "h1uU4ZkuGbL4"
      },
      "execution_count": 81,
      "outputs": []
    },
    {
      "cell_type": "code",
      "source": [
        "read_stop"
      ],
      "metadata": {
        "id": "_69seo_iLNj9",
        "outputId": "d395d724-27eb-4be8-8c19-20d7dceb3d95",
        "colab": {
          "base_uri": "https://localhost:8080/"
        }
      },
      "execution_count": 82,
      "outputs": [
        {
          "output_type": "execute_result",
          "data": {
            "text/plain": [
              "28"
            ]
          },
          "metadata": {},
          "execution_count": 82
        }
      ]
    },
    {
      "cell_type": "code",
      "source": [
        "new_index"
      ],
      "metadata": {
        "id": "OAyF2ETiJzAD",
        "outputId": "2eb0f356-42ad-473d-91b6-586f6998037d",
        "colab": {
          "base_uri": "https://localhost:8080/"
        }
      },
      "execution_count": 83,
      "outputs": [
        {
          "output_type": "execute_result",
          "data": {
            "text/plain": [
              "defaultdict(None, {(0, 16): 'barcode', (16, 22): 'umi', (28, 28): 'cdna'})"
            ]
          },
          "metadata": {},
          "execution_count": 83
        }
      ]
    },
    {
      "cell_type": "code",
      "source": [
        "new_indices"
      ],
      "metadata": {
        "id": "VDxtfM64Jqo2",
        "outputId": "f6fd2869-f272-47e8-8d7c-c1a034ff71c1",
        "colab": {
          "base_uri": "https://localhost:8080/"
        }
      },
      "execution_count": 54,
      "outputs": [
        {
          "output_type": "execute_result",
          "data": {
            "text/plain": [
              "defaultdict(None, {(0, 16): 'barcode', (16, 28): 'umi'})"
            ]
          },
          "metadata": {},
          "execution_count": 54
        }
      ]
    },
    {
      "cell_type": "code",
      "source": [
        "# goal: to return indices such that they are limited by the max len of the fastq"
      ],
      "metadata": {
        "id": "5m3WLuAcI09U",
        "outputId": "1ae02525-6abf-47d4-aebc-c4b21856b74b",
        "colab": {
          "base_uri": "https://localhost:8080/"
        }
      },
      "execution_count": 49,
      "outputs": [
        {
          "output_type": "execute_result",
          "data": {
            "text/plain": [
              "defaultdict(None,\n",
              "            {(0, 16): 'barcode',\n",
              "             (16, 28): 'umi',\n",
              "             (28, 126): 'cdna',\n",
              "             (126, 160): 'truseq_read2',\n",
              "             (160, 168): 'index7',\n",
              "             (168, 192): 'illumina_p7'})"
            ]
          },
          "metadata": {},
          "execution_count": 49
        }
      ]
    },
    {
      "cell_type": "code",
      "source": [],
      "metadata": {
        "id": "2AwnfRrMI6W1"
      },
      "execution_count": null,
      "outputs": []
    }
  ],
  "metadata": {
    "colab": {
      "name": "scratchpad",
      "provenance": [],
      "include_colab_link": true
    },
    "kernelspec": {
      "display_name": "Python 3",
      "name": "python3"
    }
  },
  "nbformat": 4,
  "nbformat_minor": 0
}