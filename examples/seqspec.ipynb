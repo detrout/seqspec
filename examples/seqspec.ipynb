{
  "nbformat": 4,
  "nbformat_minor": 0,
  "metadata": {
    "colab": {
      "provenance": [],
      "authorship_tag": "ABX9TyMLxhCwyvlm4/pKJWBmX9CU",
      "include_colab_link": true
    },
    "kernelspec": {
      "name": "python3",
      "display_name": "Python 3"
    },
    "language_info": {
      "name": "python"
    }
  },
  "cells": [
    {
      "cell_type": "markdown",
      "metadata": {
        "id": "view-in-github",
        "colab_type": "text"
      },
      "source": [
        "<a href=\"https://colab.research.google.com/github/IGVF/seqspec/blob/main/examples/seqspec.ipynb\" target=\"_parent\"><img src=\"https://colab.research.google.com/assets/colab-badge.svg\" alt=\"Open In Colab\"/></a>"
      ]
    },
    {
      "cell_type": "code",
      "execution_count": 1,
      "metadata": {
        "id": "JGcRslgqu2Jj",
        "colab": {
          "base_uri": "https://localhost:8080/"
        },
        "outputId": "b61e0bef-f753-484e-d29d-ed8a20667d17"
      },
      "outputs": [
        {
          "output_type": "stream",
          "name": "stdout",
          "text": [
            "Cloning into 'seqspec'...\n",
            "remote: Enumerating objects: 1360, done.\u001b[K\n",
            "remote: Counting objects: 100% (292/292), done.\u001b[K\n",
            "remote: Compressing objects: 100% (111/111), done.\u001b[K\n",
            "remote: Total 1360 (delta 220), reused 200 (delta 173), pack-reused 1068\u001b[K\n",
            "Receiving objects: 100% (1360/1360), 5.22 MiB | 13.42 MiB/s, done.\n",
            "Resolving deltas: 100% (893/893), done.\n",
            "  Preparing metadata (setup.py) ... \u001b[?25l\u001b[?25hdone\n",
            "  Building wheel for seqspec (setup.py) ... \u001b[?25l\u001b[?25hdone\n"
          ]
        }
      ],
      "source": [
        "!rm -rf seqspec\n",
        "!git clone https://github.com/igvf/seqspec\n",
        "!cd seqspec && pip install --quiet ."
      ]
    },
    {
      "cell_type": "code",
      "source": [
        "!mv seqspec/assays/SPLiT-seq/*onlist* .\n",
        "!gunzip *onlist*"
      ],
      "metadata": {
        "id": "vQlkxSVAi8jk",
        "outputId": "15454c4a-8e91-461a-bfc3-a56163d9e7f2",
        "colab": {
          "base_uri": "https://localhost:8080/"
        }
      },
      "execution_count": 18,
      "outputs": [
        {
          "output_type": "stream",
          "name": "stdout",
          "text": [
            "gzip: barcode-1_onlist.txt: unknown suffix -- ignored\n",
            "gzip: barcode-2_onlist.txt: unknown suffix -- ignored\n",
            "gzip: barcode-3_onlist.txt: unknown suffix -- ignored\n",
            "gzip: index7_onlist.txt: unknown suffix -- ignored\n"
          ]
        }
      ]
    },
    {
      "cell_type": "markdown",
      "source": [
        "# Interact with an existing spec"
      ],
      "metadata": {
        "id": "WM4ZJLE6jaDc"
      }
    },
    {
      "cell_type": "code",
      "source": [
        "!head seqspec/assays/SPLiT-seq/spec.yaml"
      ],
      "metadata": {
        "colab": {
          "base_uri": "https://localhost:8080/"
        },
        "id": "aGY-aZPsvpQF",
        "outputId": "4fe87861-2d45-43b5-ca9d-dd428a5e3bfc"
      },
      "execution_count": 2,
      "outputs": [
        {
          "output_type": "stream",
          "name": "stdout",
          "text": [
            "!Assay\n",
            "name: SPLiT-seq\n",
            "doi: https://doi.org/10.1126/science.aam8999\n",
            "publication_date: 15 March 2018\n",
            "description: split-pool ligation-based transcriptome sequencing\n",
            "modalities:\n",
            "- RNA\n",
            "lib_struct: https://teichlab.github.io/scg_lib_structs/methods_html/SPLiT-seq.html\n",
            "library_spec:\n",
            "- !Region\n"
          ]
        }
      ]
    },
    {
      "cell_type": "code",
      "source": [
        "!seqspec print seqspec/assays/SPLiT-seq/spec.yaml"
      ],
      "metadata": {
        "colab": {
          "base_uri": "https://localhost:8080/"
        },
        "id": "W3dFyJyAvzvx",
        "outputId": "50f42863-de5e-47ae-f504-7a8c6a41cee4"
      },
      "execution_count": 3,
      "outputs": [
        {
          "output_type": "stream",
          "name": "stdout",
          "text": [
            "                                        ┌─'illumina_p5:29'\n",
            "                                        │                   ┌─'s5:14'\n",
            "                                        ├─nextera_read1─────┤\n",
            "                                        │                   └─'ME1:19'\n",
            "                                        ├─R1.fastq.gz────── ──'cDNA:98'\n",
            "                                        │                   ┌─'barcode-1:8'\n",
            "                                        │                   ├─'linker-2:30'\n",
            "─────────────────── ──RNA───────────────┤                   ├─'barcode-2:8'\n",
            "                                        ├─R2.fastq.gz───────┤\n",
            "                                        │                   ├─'linker-3:30'\n",
            "                                        │                   ├─'barcode-3:8'\n",
            "                                        │                   └─'umi:10'\n",
            "                                        ├─'truseq_read2:34'\n",
            "                                        ├─I1.fastq.gz────── ──'index7:6'\n",
            "                                        └─'illumina_p7:24'\n"
          ]
        }
      ]
    },
    {
      "cell_type": "code",
      "source": [
        "!seqspec check seqspec/assays/SPLiT-seq/spec.yaml"
      ],
      "metadata": {
        "id": "EqMqtB_uv2OL",
        "outputId": "fe66fcc6-659d-41d4-c416-f1554cbb45e1",
        "colab": {
          "base_uri": "https://localhost:8080/"
        }
      },
      "execution_count": 5,
      "outputs": [
        {
          "output_type": "stream",
          "name": "stdout",
          "text": [
            "[error 1] None is not of type 'string' in spec['library_spec'][0]['regions'][2]['sequence_type']\n",
            "[error 2] None is not of type 'string' in spec['library_spec'][0]['regions'][3]['sequence_type']\n",
            "[error 3] None is not of type 'string' in spec['library_spec'][0]['regions'][3]['regions'][0]['onlist']['md5']\n",
            "[error 4] None is not of type 'string' in spec['library_spec'][0]['regions'][3]['regions'][2]['onlist']['md5']\n",
            "[error 5] None is not of type 'string' in spec['library_spec'][0]['regions'][3]['regions'][4]['onlist']['md5']\n",
            "[error 6] None is not of type 'string' in spec['library_spec'][0]['regions'][5]['sequence_type']\n",
            "[error 7] None is not of type 'string' in spec['library_spec'][0]['regions'][5]['regions'][0]['onlist']['md5']\n"
          ]
        }
      ]
    },
    {
      "cell_type": "code",
      "source": [
        "!seqspec index -m RNA -r R1.fastq.gz seqspec/assays/SPLiT-seq/spec.yaml"
      ],
      "metadata": {
        "id": "NuT_prmr5zmw",
        "colab": {
          "base_uri": "https://localhost:8080/"
        },
        "outputId": "867bfd05-90b3-4bbe-e9fe-839b7363176e"
      },
      "execution_count": 12,
      "outputs": [
        {
          "output_type": "stream",
          "name": "stdout",
          "text": [
            "R1.fastq.gz\tcDNA\t0\t98\n"
          ]
        }
      ]
    },
    {
      "cell_type": "code",
      "source": [
        "!seqspec index --rev -m RNA -r R2.fastq.gz seqspec/assays/SPLiT-seq/spec.yaml"
      ],
      "metadata": {
        "id": "qTK_NmaCZwuR",
        "outputId": "f96e7aa0-b844-46b7-c41d-628ffedf7cf9",
        "colab": {
          "base_uri": "https://localhost:8080/"
        }
      },
      "execution_count": 13,
      "outputs": [
        {
          "output_type": "stream",
          "name": "stdout",
          "text": [
            "R2.fastq.gz\tumi\t0\t10\n",
            "R2.fastq.gz\tbarcode\t10\t18\n",
            "R2.fastq.gz\tlinker\t18\t48\n",
            "R2.fastq.gz\tbarcode\t48\t56\n",
            "R2.fastq.gz\tlinker\t56\t86\n",
            "R2.fastq.gz\tbarcode\t86\t94\n"
          ]
        }
      ]
    },
    {
      "cell_type": "code",
      "source": [
        "!seqspec find -m RNA -r barcode-1 seqspec/assays/SPLiT-seq/spec.yaml"
      ],
      "metadata": {
        "id": "7QSjMqk6ZX-n",
        "outputId": "74cccd7e-50d9-4df2-a821-18fa46bdf2ea",
        "colab": {
          "base_uri": "https://localhost:8080/"
        }
      },
      "execution_count": 15,
      "outputs": [
        {
          "output_type": "stream",
          "name": "stdout",
          "text": [
            "- !Region\n",
            "  region_id: barcode-1\n",
            "  region_type: barcode\n",
            "  name: barcode-1\n",
            "  sequence_type: onlist\n",
            "  sequence: NNNNNNNN\n",
            "  min_len: 8\n",
            "  max_len: 8\n",
            "  onlist: !Onlist\n",
            "    filename: barcode-1_onlist.txt\n",
            "    md5: null\n",
            "  regions: null\n",
            "  parent_id: R2.fastq.gz\n",
            "\n"
          ]
        }
      ]
    },
    {
      "cell_type": "code",
      "source": [
        "!seqspec onlist -m RNA -r barcode seqspec/assays/SPLiT-seq/spec.yaml"
      ],
      "metadata": {
        "id": "Yy_YLqX0ig08",
        "outputId": "ec1db703-e586-432e-daf1-ab213a3b16bc",
        "colab": {
          "base_uri": "https://localhost:8080/"
        }
      },
      "execution_count": 19,
      "outputs": [
        {
          "output_type": "stream",
          "name": "stdout",
          "text": [
            "/content/onlist_joined.txt\n"
          ]
        }
      ]
    },
    {
      "cell_type": "code",
      "source": [
        "!head -2 *onlist*"
      ],
      "metadata": {
        "id": "IZ4W_GfGjGaA",
        "outputId": "d2be7dee-6ae8-46d0-980b-3d6ac5d838f5",
        "colab": {
          "base_uri": "https://localhost:8080/"
        }
      },
      "execution_count": 22,
      "outputs": [
        {
          "output_type": "stream",
          "name": "stdout",
          "text": [
            "==> barcode-1_onlist.txt <==\n",
            "AACGTGAT\n",
            "AAACATCG\n",
            "\n",
            "==> barcode-2_onlist.txt <==\n",
            "AACGTGAT\n",
            "AAACATCG\n",
            "\n",
            "==> barcode-3_onlist.txt <==\n",
            "AACGTGAT\n",
            "AAACATCG\n",
            "\n",
            "==> index7_onlist.txt <==\n",
            "TCGCAG\n",
            "==> onlist_joined.txt <==\n",
            "AACGTGATAACGTGATAACGTGAT\n",
            "AACGTGATAACGTGATAAACATCG\n"
          ]
        }
      ]
    },
    {
      "cell_type": "markdown",
      "source": [
        "# Create a new spec"
      ],
      "metadata": {
        "id": "NUL6IWZPjXvl"
      }
    },
    {
      "cell_type": "code",
      "source": [
        "!seqspec init -n myassay -m 1 -o spec.yaml \"(((barcode:16,umi:12)R1.fastq.gz,(cDNA:150)R2.fastq.gz,(index7:8)I1.fastq.gz)rna)\""
      ],
      "metadata": {
        "id": "gXnns2osjNH8"
      },
      "execution_count": 24,
      "outputs": []
    },
    {
      "cell_type": "code",
      "source": [
        "!seqspec print spec.yaml"
      ],
      "metadata": {
        "id": "nWa4kAXhjgvn",
        "outputId": "506e5c96-e4b1-4be1-bef1-7845540cfbd3",
        "colab": {
          "base_uri": "https://localhost:8080/"
        }
      },
      "execution_count": 25,
      "outputs": [
        {
          "output_type": "stream",
          "name": "stdout",
          "text": [
            "                                             ┌─'barcode:16'\n",
            "                              ┌─R1.fastq.gz──┤\n",
            "                              │              └─'umi:12'\n",
            "────────────── ──rna──────────┤\n",
            "                              ├─R2.fastq.gz─ ──'cDNA:150'\n",
            "                              └─I1.fastq.gz─ ──'index7:8'\n"
          ]
        }
      ]
    },
    {
      "cell_type": "code",
      "source": [
        "!seqspec format -o fmt.yaml spec.yaml"
      ],
      "metadata": {
        "id": "ZcUdvwUVjl4O"
      },
      "execution_count": 26,
      "outputs": []
    },
    {
      "cell_type": "code",
      "source": [
        "!seqspec check fmt.yaml"
      ],
      "metadata": {
        "id": "KL5hL708jp1O"
      },
      "execution_count": 27,
      "outputs": []
    },
    {
      "cell_type": "code",
      "source": [],
      "metadata": {
        "id": "uZ_7Bv3Djrm1"
      },
      "execution_count": null,
      "outputs": []
    }
  ]
}
