{
  "nbformat": 4,
  "nbformat_minor": 0,
  "metadata": {
    "colab": {
      "provenance": [],
      "authorship_tag": "ABX9TyMb53psLmoNMDBCWD64FFaq",
      "include_colab_link": true
    },
    "kernelspec": {
      "name": "python3",
      "display_name": "Python 3"
    },
    "language_info": {
      "name": "python"
    }
  },
  "cells": [
    {
      "cell_type": "markdown",
      "metadata": {
        "id": "view-in-github",
        "colab_type": "text"
      },
      "source": [
        "<a href=\"https://colab.research.google.com/github/pachterlab/seqspec/blob/libspec/examples/seqspec-dev.ipynb\" target=\"_parent\"><img src=\"https://colab.research.google.com/assets/colab-badge.svg\" alt=\"Open In Colab\"/></a>"
      ]
    },
    {
      "cell_type": "code",
      "execution_count": 1,
      "metadata": {
        "id": "JGcRslgqu2Jj",
        "colab": {
          "base_uri": "https://localhost:8080/"
        },
        "outputId": "cc52ea97-891f-4cb9-b6a4-283db1be9f70"
      },
      "outputs": [
        {
          "output_type": "stream",
          "name": "stdout",
          "text": [
            "Cloning into 'seqspec'...\n",
            "remote: Enumerating objects: 1541, done.\u001b[K\n",
            "remote: Counting objects: 100% (719/719), done.\u001b[K\n",
            "remote: Compressing objects: 100% (382/382), done.\u001b[K\n",
            "remote: Total 1541 (delta 446), reused 557 (delta 331), pack-reused 822\u001b[K\n",
            "Receiving objects: 100% (1541/1541), 6.15 MiB | 15.04 MiB/s, done.\n",
            "Resolving deltas: 100% (967/967), done.\n",
            "Branch 'libspec' set up to track remote branch 'libspec' from 'origin'.\n",
            "Switched to a new branch 'libspec'\n",
            "  Preparing metadata (setup.py) ... \u001b[?25l\u001b[?25hdone\n",
            "\u001b[2K     \u001b[90m━━━━━━━━━━━━━━━━━━━━━━━━━━━━━━━━━━━━━━━━\u001b[0m \u001b[32m3.1/3.1 MB\u001b[0m \u001b[31m17.8 MB/s\u001b[0m eta \u001b[36m0:00:00\u001b[0m\n",
            "\u001b[?25h  Building wheel for seqspec (setup.py) ... \u001b[?25l\u001b[?25hdone\n"
          ]
        }
      ],
      "source": [
        "!rm -rf seqspec\n",
        "!git clone https://github.com/pachterlab/seqspec\n",
        "!cd seqspec && git checkout -b libspec origin/libspec && pip install --quiet ."
      ]
    },
    {
      "cell_type": "code",
      "source": [
        "!seqspec"
      ],
      "metadata": {
        "colab": {
          "base_uri": "https://localhost:8080/"
        },
        "id": "TgqvF0qovoxZ",
        "outputId": "288c66ca-ed5d-46ae-fbfe-517cc07ba595"
      },
      "execution_count": 2,
      "outputs": [
        {
          "output_type": "stream",
          "name": "stdout",
          "text": [
            "usage: seqspec [-h] <CMD> ...\n",
            "\n",
            "seqspec 0.1.1: Format sequence specification files\n",
            "\n",
            "positional arguments:\n",
            "  <CMD>\n",
            "    check     validate seqspec file\n",
            "    find      find regions in a seqspec file\n",
            "    format    format seqspec file\n",
            "    genbank   get genbank about seqspec file\n",
            "    index     index regions in a seqspec file\n",
            "    info      get info about seqspec file\n",
            "    init      init a seqspec file\n",
            "    modify    modify region attributes\n",
            "    onlist    get onlist file for specific regions\n",
            "    print     print seqspec file\n",
            "    split     split seqspec into modalities\n",
            "    version   Get seqspec version and seqspec file version\n",
            "\n",
            "options:\n",
            "  -h, --help  show this help message and exit\n"
          ]
        }
      ]
    },
    {
      "cell_type": "code",
      "source": [
        "!head seqspec/docs/assays/illumina_truseq_dual.spec.yaml"
      ],
      "metadata": {
        "colab": {
          "base_uri": "https://localhost:8080/"
        },
        "id": "aGY-aZPsvpQF",
        "outputId": "deca5328-6548-43fd-b6c4-3d3aadb119ee"
      },
      "execution_count": 3,
      "outputs": [
        {
          "output_type": "stream",
          "name": "stdout",
          "text": [
            "!Assay\n",
            "seqspec_version: 0.0.0\n",
            "assay_id: Illumina-novaseq-truseq-dual-index\n",
            "name: Example assay\n",
            "doi: https://support.illumina.com/content/dam/illumina-support/documents/documentation/system_documentation/miseq/indexed-sequencing-overview-guide-15057455-08.pdf\n",
            "date: 21 February 2024\n",
            "description: Example seqspec for an assay\n",
            "modalities:\n",
            "- rna\n",
            "lib_struct: null\n"
          ]
        }
      ]
    },
    {
      "cell_type": "code",
      "source": [
        "!seqspec print seqspec/docs/assays/illumina_truseq_dual.spec.yaml"
      ],
      "metadata": {
        "colab": {
          "base_uri": "https://localhost:8080/"
        },
        "id": "W3dFyJyAvzvx",
        "outputId": "f6178af7-2a3e-4109-b632-c6c585aeb293"
      },
      "execution_count": 4,
      "outputs": [
        {
          "output_type": "stream",
          "name": "stdout",
          "text": [
            "                                        ┌─'illumina_p5:29'\n",
            "                                        ├─'truseq_read1:10'\n",
            "                                        ├─'insert:150'\n",
            "─────────────────── ──rna───────────────┤\n",
            "                                        ├─'truseq_read2:34'\n",
            "                                        ├─'index7:8'\n",
            "                                        └─'illumina_p7:24'\n"
          ]
        }
      ]
    },
    {
      "cell_type": "code",
      "source": [
        "!seqspec check seqspec/docs/assays/illumina_truseq_dual.spec.yaml"
      ],
      "metadata": {
        "id": "EqMqtB_uv2OL",
        "outputId": "b07b1e5b-82cf-4e42-81c9-54e4592523a1",
        "colab": {
          "base_uri": "https://localhost:8080/"
        }
      },
      "execution_count": 5,
      "outputs": [
        {
          "output_type": "stream",
          "name": "stdout",
          "text": [
            "[error 1] None is not of type 'string' in spec['lib_struct']\n",
            "[error 2] 'insert' is not one of ['atac', 'barcode', 'cdna', 'crispr', 'custom_primer', 'dna', 'fastq', 'fastq_link', 'gdna', 'hic', 'illumina_p5', 'illumina_p7', 'index5', 'index7', 'linker', 'ME1', 'ME2', 'methyl', 'named', 'nextera_read1', 'nextera_read2', 'poly_A', 'poly_G', 'poly_T', 'poly_C', 'protein', 'rna', 's5', 's7', 'tag', 'truseq_read1', 'truseq_read2', 'umi'] in spec['library_spec'][0]['regions'][2]['region_type']\n",
            "[error 3] None is not of type 'string' in spec['library_spec'][0]['regions'][4]['onlist']['md5']\n",
            "[error 3] index7_onlist.txt does not exist\n",
            "[error 4] R1.fastq.gz file does not exist\n",
            "[error 5] I1.fastq.gz file does not exist\n",
            "[error 6] I2.fastq.gz file does not exist\n",
            "[error 7] R2.fastq.gz file does not exist\n"
          ]
        }
      ]
    },
    {
      "cell_type": "code",
      "source": [
        "!seqspec index -m rna -r R1.fastq.gz seqspec/docs/assays/illumina_truseq_dual.spec.yaml"
      ],
      "metadata": {
        "id": "NuT_prmr5zmw",
        "colab": {
          "base_uri": "https://localhost:8080/"
        },
        "outputId": "c5ce21e0-bfef-4f98-d2ba-09bab93def44"
      },
      "execution_count": 6,
      "outputs": [
        {
          "output_type": "stream",
          "name": "stdout",
          "text": [
            "R1.fastq.gz\tinsert\t0\t98\n"
          ]
        }
      ]
    },
    {
      "cell_type": "code",
      "source": [
        "!seqspec index --rev -m rna -r R2.fastq.gz seqspec/docs/assays/illumina_truseq_dual.spec.yaml"
      ],
      "metadata": {
        "id": "qTK_NmaCZwuR",
        "outputId": "e4e44358-32b7-429a-f501-c0caa0719be9",
        "colab": {
          "base_uri": "https://localhost:8080/"
        }
      },
      "execution_count": 7,
      "outputs": [
        {
          "output_type": "stream",
          "name": "stdout",
          "text": [
            "R2.fastq.gz\tinsert\t0\t98\n"
          ]
        }
      ]
    },
    {
      "cell_type": "code",
      "source": [
        "!seqspec find -m rna -r insert seqspec/docs/assays/illumina_truseq_dual.spec.yaml"
      ],
      "metadata": {
        "id": "7QSjMqk6ZX-n",
        "outputId": "f1d86802-2d62-49c5-ec01-44525eedb385",
        "colab": {
          "base_uri": "https://localhost:8080/"
        }
      },
      "execution_count": 8,
      "outputs": [
        {
          "output_type": "stream",
          "name": "stdout",
          "text": [
            "- !Region\n",
            "  region_id: insert\n",
            "  region_type: insert\n",
            "  name: Custom insert\n",
            "  sequence_type: random\n",
            "  sequence: X\n",
            "  min_len: 1\n",
            "  max_len: 150\n",
            "  onlist: null\n",
            "  regions: null\n",
            "  parent_id: rna\n",
            "\n"
          ]
        }
      ]
    },
    {
      "cell_type": "code",
      "source": [],
      "metadata": {
        "id": "WUq4-1a_GF_n"
      },
      "execution_count": 8,
      "outputs": []
    },
    {
      "cell_type": "markdown",
      "source": [
        "# Code testing"
      ],
      "metadata": {
        "id": "lyBeZwvTZmCB"
      }
    },
    {
      "cell_type": "code",
      "source": [
        "import matplotlib.pyplot as plt\n",
        "import numpy as np\n",
        "import pandas as pd\n",
        "from datetime import datetime\n",
        "import matplotlib.dates as mdates\n",
        "\n",
        "from seqspec.utils import load_spec, get_cuts\n",
        "from seqspec.seqspec_index import run_index\n",
        "from seqspec.seqspec_find import run_find\n",
        "import os\n",
        "\n",
        "fsize=15\n",
        "\n",
        "plt.rcParams.update({'font.size': fsize})\n",
        "%config InlineBackend.figure_format = 'retina'"
      ],
      "metadata": {
        "id": "mt37b0RRrXlm"
      },
      "execution_count": 9,
      "outputs": []
    },
    {
      "cell_type": "code",
      "source": [
        "specA = load_spec(\"seqspec/docs/assays/element_adept_truseq_dual.spec.yaml\")\n",
        "specB = load_spec(\"seqspec/docs/assays/illumina_truseq_dual.spec.yaml\")\n",
        "\n",
        "# modality\n",
        "mA = \"rna\"\n",
        "mB = \"rna\"\n",
        "\n",
        "modeA = specA.get_libspec(mA)\n",
        "modeB = specB.get_libspec(mA)\n",
        "\n",
        "# Get the regions from specA based on the FASTQ file names\n",
        "fqA_fns = [\"data/R1.fastq.gz\", \"data/R2.fastq.gz\"]\n",
        "fqB_fns = [\"data/R1.fastq.gz\", \"data/R2.fastq.gz\"]\n",
        "\n"
      ],
      "metadata": {
        "id": "Wqe4fcqqAnyH"
      },
      "execution_count": 13,
      "outputs": []
    },
    {
      "cell_type": "code",
      "source": [
        "print(modeA.sequence)"
      ],
      "metadata": {
        "id": "OBC7ZopLq1uG",
        "outputId": "ef229c44-d32d-459e-82f1-10037b342d84",
        "colab": {
          "base_uri": "https://localhost:8080/"
        }
      },
      "execution_count": 14,
      "outputs": [
        {
          "output_type": "stream",
          "name": "stdout",
          "text": [
            "AATGATACGGCGACCACCGAGATCTACACTCTTTCCCTACACGACGCTCTTCCGATCTXAGATCGGAAGAGCACACGTCTGAACTCCAGTCACNNNNNNNNATCTCGTATGCCGTCTTCTGCTTG\n"
          ]
        }
      ]
    },
    {
      "cell_type": "code",
      "source": [
        "# atac\n",
        "# methyl\n",
        "# rna\n",
        "# protein\n",
        "# hic\n",
        "# crispr\n",
        "\n",
        "colors = {\n",
        "\"barcode\": '#2980B9',\n",
        "\"cdna\": '#8E44AD',\n",
        "\"fastq\": '#F1C40F',\n",
        "\"gdna\": '#E67E22',\n",
        "\"illumina_p5\": '#E17A47',\n",
        "\"illumina_p7\": '#E17A47',\n",
        "\"index5\": '#4AB19D',\n",
        "\"index7\": '#4AB19D',\n",
        "\"linker\": '#1ABC9C',\n",
        "\"ME1\": '#E74C3C',\n",
        "\"ME2\": '#E74C3C',\n",
        "\"nextera_read1\": '#FF8000',\n",
        "\"nextera_read2\": '#FF8000',\n",
        "\"poly_A\": '#FF0000',\n",
        "\"poly_G\": '#C0C0C0',\n",
        "\"poly_T\": '#7F8C8D',\n",
        "\"poly_C\": '#2C3E50',\n",
        "\"s5\": '#EF3D59',\n",
        "\"s7\": '#EF3D59',\n",
        "\"truseq_read1\": '#EFC958',\n",
        "\"truseq_read2\": '#EFC958',\n",
        "\"umi\": '#16A085',\n",
        "\"tag\": '#344E5C',\n",
        "\"protein\": '#ECF0F1',\n",
        "           \"insert\": '#FF8C00'}\n",
        "\n",
        "\n",
        "\n",
        "\n",
        "'#95A5A6'"
      ],
      "metadata": {
        "colab": {
          "base_uri": "https://localhost:8080/",
          "height": 35
        },
        "id": "ZYjF3oZ-KkTZ",
        "outputId": "cac9cf9f-a7db-47e0-90da-0ef6bb7384ef"
      },
      "execution_count": 22,
      "outputs": [
        {
          "output_type": "execute_result",
          "data": {
            "text/plain": [
              "'#95A5A6'"
            ],
            "application/vnd.google.colaboratory.intrinsic+json": {
              "type": "string"
            }
          },
          "metadata": {},
          "execution_count": 22
        }
      ]
    },
    {
      "cell_type": "code",
      "source": [
        "spec = load_spec(\"seqspec/docs/assays/illumina_truseq_dual.spec.yaml\")\n",
        "\n",
        "# modality\n",
        "modalities = spec.list_modalities()\n",
        "modes = [spec.get_libspec(m) for m in modalities]\n",
        "lengths = [i.min_len for i in modes]\n",
        "nmodes = len(modalities)"
      ],
      "metadata": {
        "id": "A4xrxYXZUBWT"
      },
      "execution_count": 17,
      "outputs": []
    },
    {
      "cell_type": "code",
      "source": [
        "# sort the modalities by their lengths\n",
        "asort = np.argsort(lengths)\n",
        "modalities = np.array(modalities)[asort].tolist()\n",
        "lengths = np.array(lengths)[asort].tolist()\n",
        "modes = np.array(modes)[asort].tolist()"
      ],
      "metadata": {
        "id": "7Lzo1OTUMVBK"
      },
      "execution_count": 18,
      "outputs": []
    }
  ]
}
