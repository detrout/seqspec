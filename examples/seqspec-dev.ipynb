{
  "nbformat": 4,
  "nbformat_minor": 0,
  "metadata": {
    "colab": {
      "provenance": [],
      "include_colab_link": true
    },
    "kernelspec": {
      "name": "python3",
      "display_name": "Python 3"
    },
    "language_info": {
      "name": "python"
    }
  },
  "cells": [
    {
      "cell_type": "markdown",
      "metadata": {
        "id": "view-in-github",
        "colab_type": "text"
      },
      "source": [
        "<a href=\"https://colab.research.google.com/github/pachterlab/seqspec/blob/libspec/examples/seqspec-dev.ipynb\" target=\"_parent\"><img src=\"https://colab.research.google.com/assets/colab-badge.svg\" alt=\"Open In Colab\"/></a>"
      ]
    },
    {
      "cell_type": "code",
      "execution_count": 1,
      "metadata": {
        "id": "JGcRslgqu2Jj",
        "colab": {
          "base_uri": "https://localhost:8080/"
        },
        "outputId": "2a3a02d3-9b3d-41ed-8637-2022f93b14cd"
      },
      "outputs": [
        {
          "output_type": "stream",
          "name": "stdout",
          "text": [
            "Cloning into 'seqspec'...\n",
            "remote: Enumerating objects: 1609, done.\u001b[K\n",
            "remote: Counting objects: 100% (786/786), done.\u001b[K\n",
            "remote: Compressing objects: 100% (342/342), done.\u001b[K\n",
            "remote: Total 1609 (delta 495), reused 699 (delta 438), pack-reused 823\u001b[K\n",
            "Receiving objects: 100% (1609/1609), 6.42 MiB | 9.70 MiB/s, done.\n",
            "Resolving deltas: 100% (1016/1016), done.\n",
            "Branch 'libspec' set up to track remote branch 'libspec' from 'origin'.\n",
            "Switched to a new branch 'libspec'\n",
            "  Preparing metadata (setup.py) ... \u001b[?25l\u001b[?25hdone\n",
            "\u001b[2K     \u001b[90m━━━━━━━━━━━━━━━━━━━━━━━━━━━━━━━━━━━━━━━━\u001b[0m \u001b[32m3.1/3.1 MB\u001b[0m \u001b[31m9.8 MB/s\u001b[0m eta \u001b[36m0:00:00\u001b[0m\n",
            "\u001b[?25h  Building wheel for seqspec (setup.py) ... \u001b[?25l\u001b[?25hdone\n"
          ]
        }
      ],
      "source": [
        "!rm -rf seqspec\n",
        "!git clone https://github.com/pachterlab/seqspec\n",
        "!cd seqspec && git checkout -b libspec origin/libspec && pip install --quiet ."
      ]
    },
    {
      "cell_type": "code",
      "source": [
        "!seqspec"
      ],
      "metadata": {
        "colab": {
          "base_uri": "https://localhost:8080/"
        },
        "id": "TgqvF0qovoxZ",
        "outputId": "5f0d2a21-8a46-45bf-c956-b3fe06085766"
      },
      "execution_count": 2,
      "outputs": [
        {
          "output_type": "stream",
          "name": "stdout",
          "text": [
            "usage: seqspec [-h] <CMD> ...\n",
            "\n",
            "seqspec 0.1.1: Format sequence specification files\n",
            "\n",
            "positional arguments:\n",
            "  <CMD>\n",
            "    check     validate seqspec file\n",
            "    find      find regions in a seqspec file\n",
            "    format    format seqspec file\n",
            "    genbank   get genbank about seqspec file\n",
            "    index     index regions in a seqspec file\n",
            "    info      get info about seqspec file\n",
            "    init      init a seqspec file\n",
            "    modify    modify region attributes\n",
            "    onlist    get onlist file for specific regions\n",
            "    print     print seqspec file\n",
            "    split     split seqspec into modalities\n",
            "    version   Get seqspec version and seqspec file version\n",
            "\n",
            "options:\n",
            "  -h, --help  show this help message and exit\n"
          ]
        }
      ]
    },
    {
      "cell_type": "code",
      "source": [
        "!head seqspec/docs/assays/illumina_truseq_dual.spec.yaml"
      ],
      "metadata": {
        "colab": {
          "base_uri": "https://localhost:8080/"
        },
        "id": "aGY-aZPsvpQF",
        "outputId": "5adc4c9f-39df-483d-e131-94b0ed0d279a"
      },
      "execution_count": 3,
      "outputs": [
        {
          "output_type": "stream",
          "name": "stdout",
          "text": [
            "!Assay\n",
            "seqspec_version: 0.0.0\n",
            "assay_id: Illumina-novaseq-truseq-dual-index\n",
            "name: Example assay\n",
            "doi: https://support.illumina.com/content/dam/illumina-support/documents/documentation/system_documentation/miseq/indexed-sequencing-overview-guide-15057455-08.pdf\n",
            "date: 21 February 2024\n",
            "description: Example seqspec for an assay\n",
            "modalities:\n",
            "- rna\n",
            "lib_struct: null\n"
          ]
        }
      ]
    },
    {
      "cell_type": "code",
      "source": [
        "!seqspec print seqspec/docs/assays/illumina_truseq_dual.spec.yaml"
      ],
      "metadata": {
        "colab": {
          "base_uri": "https://localhost:8080/"
        },
        "id": "W3dFyJyAvzvx",
        "outputId": "a106f5f5-248d-40a5-84eb-b5193ba2a96e"
      },
      "execution_count": 4,
      "outputs": [
        {
          "output_type": "stream",
          "name": "stdout",
          "text": [
            "                                        ┌─'illumina_p5:29'\n",
            "                                        ├─'truseq_read1:10'\n",
            "                                        ├─'insert:150'\n",
            "─────────────────── ──rna───────────────┤\n",
            "                                        ├─'truseq_read2:34'\n",
            "                                        ├─'index7:8'\n",
            "                                        └─'illumina_p7:24'\n"
          ]
        }
      ]
    },
    {
      "cell_type": "code",
      "source": [
        "!seqspec check seqspec/docs/assays/illumina_truseq_dual.spec.yaml"
      ],
      "metadata": {
        "id": "EqMqtB_uv2OL",
        "outputId": "4af0a20a-6c2c-43d7-aaf1-687e21b3c5b3",
        "colab": {
          "base_uri": "https://localhost:8080/"
        }
      },
      "execution_count": 5,
      "outputs": [
        {
          "output_type": "stream",
          "name": "stdout",
          "text": [
            "[error 1] None is not of type 'string' in spec['lib_struct']\n",
            "[error 2] 'insert' is not one of ['atac', 'barcode', 'cdna', 'crispr', 'custom_primer', 'dna', 'fastq', 'fastq_link', 'gdna', 'hic', 'illumina_p5', 'illumina_p7', 'index5', 'index7', 'linker', 'ME1', 'ME2', 'methyl', 'named', 'nextera_read1', 'nextera_read2', 'poly_A', 'poly_G', 'poly_T', 'poly_C', 'protein', 'rna', 's5', 's7', 'tag', 'truseq_read1', 'truseq_read2', 'umi'] in spec['library_spec'][0]['regions'][2]['region_type']\n",
            "[error 3] None is not of type 'string' in spec['library_spec'][0]['regions'][4]['onlist']['md5']\n",
            "[error 3] index7_onlist.txt does not exist\n",
            "[error 4] R1.fastq.gz file does not exist\n",
            "[error 5] I1.fastq.gz file does not exist\n",
            "[error 6] I2.fastq.gz file does not exist\n",
            "[error 7] R2.fastq.gz file does not exist\n",
            "[error 8] 'truseq_read1' sequence 'TCTTTCCCTACACGACGCTCTTCCGATCT' has length 29, expected range (10, 10)\n"
          ]
        }
      ]
    },
    {
      "cell_type": "code",
      "source": [
        "!seqspec index -m rna -r R1.fastq.gz seqspec/docs/assays/illumina_truseq_dual.spec.yaml"
      ],
      "metadata": {
        "id": "NuT_prmr5zmw",
        "colab": {
          "base_uri": "https://localhost:8080/"
        },
        "outputId": "6a9b1f29-7180-4937-9a53-c5619695f1b0"
      },
      "execution_count": 6,
      "outputs": [
        {
          "output_type": "stream",
          "name": "stdout",
          "text": [
            "R1.fastq.gz\tinsert\t0\t98\n"
          ]
        }
      ]
    },
    {
      "cell_type": "code",
      "source": [
        "!seqspec index --rev -m rna -r R2.fastq.gz seqspec/docs/assays/illumina_truseq_dual.spec.yaml"
      ],
      "metadata": {
        "id": "qTK_NmaCZwuR",
        "outputId": "ee289c00-6b1f-4ca4-8de4-6a2b1eb77ee6",
        "colab": {
          "base_uri": "https://localhost:8080/"
        }
      },
      "execution_count": 7,
      "outputs": [
        {
          "output_type": "stream",
          "name": "stdout",
          "text": [
            "R2.fastq.gz\tinsert\t0\t98\n"
          ]
        }
      ]
    },
    {
      "cell_type": "code",
      "source": [
        "!seqspec find -m rna -r insert seqspec/docs/assays/illumina_truseq_dual.spec.yaml"
      ],
      "metadata": {
        "id": "7QSjMqk6ZX-n",
        "outputId": "e5f70e48-8dae-4a92-de29-a5c76874ed71",
        "colab": {
          "base_uri": "https://localhost:8080/"
        }
      },
      "execution_count": 8,
      "outputs": [
        {
          "output_type": "stream",
          "name": "stdout",
          "text": [
            "- !Region\n",
            "  region_id: insert\n",
            "  region_type: insert\n",
            "  name: Custom insert\n",
            "  sequence_type: random\n",
            "  sequence: XXXXXXXXXXXXXXXXXXXXXXXXXXXXXXXXXXXXXXXXXXXXXXXXXXXXXXXXXXXXXXXXXXXXXXXXXXXXXXXXXXXXXXXXXXXXXXXXXXXXXXXXXXXXXXXXXXXXXXXXXXXXXXXXXXXXXXXXXXXXXXXXXXXXXX\n",
            "  min_len: 1\n",
            "  max_len: 150\n",
            "  onlist: null\n",
            "  regions: null\n",
            "  parent_id: rna\n",
            "\n"
          ]
        }
      ]
    },
    {
      "cell_type": "markdown",
      "source": [
        "# Code testing"
      ],
      "metadata": {
        "id": "lyBeZwvTZmCB"
      }
    },
    {
      "cell_type": "code",
      "source": [
        "import matplotlib.pyplot as plt\n",
        "import numpy as np\n",
        "import pandas as pd\n",
        "from datetime import datetime\n",
        "import matplotlib.dates as mdates\n",
        "\n",
        "from seqspec.utils import load_spec, project_regions_to_coordinates\n",
        "from seqspec.seqspec_index import run_index\n",
        "from seqspec.seqspec_find import run_find\n",
        "import os\n",
        "\n",
        "fsize=15\n",
        "\n",
        "plt.rcParams.update({'font.size': fsize})\n",
        "%config InlineBackend.figure_format = 'retina'"
      ],
      "metadata": {
        "id": "mt37b0RRrXlm"
      },
      "execution_count": 9,
      "outputs": []
    },
    {
      "cell_type": "code",
      "source": [
        "spec = load_spec(\"seqspec/docs/assays/element_adept_truseq_dual.spec.yaml\")\n",
        "\n",
        "# modality\n",
        "mode = \"rna\"\n",
        "\n",
        "# library and sequence spec\n",
        "libspec = spec.get_libspec(mode)\n",
        "seqspec = spec.get_seqspec(mode)\n"
      ],
      "metadata": {
        "id": "Wqe4fcqqAnyH"
      },
      "execution_count": 10,
      "outputs": []
    },
    {
      "cell_type": "code",
      "source": [
        "from seqspec.utils import project_regions_to_coordinates\n",
        "\n",
        "def complement_nucleotide(nucleotide):\n",
        "    complements = {\n",
        "        'A': 'T', 'T': 'A', 'G': 'C', 'C': 'G',\n",
        "        'R': 'Y', 'Y': 'R', 'S': 'S', 'W': 'W',\n",
        "        'K': 'M', 'M': 'K', 'B': 'V', 'D': 'H',\n",
        "        'V': 'B', 'H': 'D', 'N': 'N', 'X':'X'\n",
        "    }\n",
        "    return complements.get(nucleotide, 'N')  # Default to 'N' if nucleotide is not recognized\n",
        "\n",
        "def complement_sequence(sequence):\n",
        "    return ''.join(complement_nucleotide(n) for n in sequence.upper())\n",
        "\n",
        "\n",
        "def run_print_both(spec, modality):\n",
        "  libspec = spec.get_libspec(mode)\n",
        "  seqspec = spec.get_seqspec(mode)\n",
        "\n",
        "  p = []\n",
        "  n = []\n",
        "  leaves = libspec.get_leaves()\n",
        "  cuts = project_regions_to_coordinates(leaves)\n",
        "  for idx, read in enumerate(seqspec, 1):\n",
        "    read_len = read.max_len\n",
        "    read_id = read.read_id\n",
        "    primer_id = read.primer_id\n",
        "    primer_idx = [i for i, l in enumerate(leaves) if l.region_id == primer_id][0]\n",
        "    primer_pos = cuts[primer_idx]\n",
        "    if read.strand == \"pos\":\n",
        "\n",
        "      wsl = primer_pos[1]-1\n",
        "      ws = wsl*' '\n",
        "\n",
        "      arrowl = read_len-1\n",
        "      arrow = arrowl*'-'\n",
        "\n",
        "      p.append(f\"{ws}|{arrow}>({idx}) {read_id}\")\n",
        "    elif read.strand == \"neg\":\n",
        "      wsl = primer_pos[0] - read_len\n",
        "      ws = wsl*' '\n",
        "\n",
        "      arrowl = read_len-1\n",
        "      arrow = arrowl*'-'\n",
        "\n",
        "      n.append(f\"{ws}<{arrow}|({idx}) {read_id}\")\n",
        "\n",
        "      s = \"\\n\".join([\n",
        "          \"\\n\".join(p),\n",
        "          libspec.sequence,\n",
        "          complement_sequence(libspec.sequence),\n",
        "          \"\\n\".join(n)\n",
        "          ])\n",
        "      return s"
      ],
      "metadata": {
        "id": "iKznFJ6whdU1"
      },
      "execution_count": 25,
      "outputs": []
    },
    {
      "cell_type": "code",
      "source": [],
      "metadata": {
        "id": "XXjSxmaFit3k"
      },
      "execution_count": null,
      "outputs": []
    },
    {
      "cell_type": "code",
      "source": [
        "s = run_print_both(spec, \"rna\")"
      ],
      "metadata": {
        "id": "NY-vch2WiD8y"
      },
      "execution_count": 26,
      "outputs": []
    },
    {
      "cell_type": "code",
      "source": [
        "print(s)"
      ],
      "metadata": {
        "colab": {
          "base_uri": "https://localhost:8080/"
        },
        "id": "GbA2cCkoXJFE",
        "outputId": "095fd5a6-8d72-4ae5-fc8f-939dfc35c2ea"
      },
      "execution_count": 27,
      "outputs": [
        {
          "output_type": "stream",
          "name": "stdout",
          "text": [
            "                                                                                                                                                      |-------->(1) I1.fastq.gz\n",
            "                            |-------->(2) I2.fastq.gz\n",
            "                                                                  |------------------------------------------------->(3) R1.fastq.gz\n",
            "AATGATACGGCGACCACCGAGATCTACACNNNNNNNNNTCTTTCCCTACACGACGCTCTTCCGATCTXXXXXXXXXXXXXXXXXXXXXXXXXXXXXXXXXXXXXXXXXXXXXXXXXXAGATCGGAAGAGCACACGTCTGAACTCCAGTCACNNNNNNNNNATCTCGTATGCCGTCTTCTGCTTG\n",
            "TTACTATGCCGCTGGTGGCTCTAGATGTGNNNNNNNNNAGAAAGGGATGTGCTGCGAGAAGGCTAGAXXXXXXXXXXXXXXXXXXXXXXXXXXXXXXXXXXXXXXXXXXXXXXXXXXTCTAGCCTTCTCGTGTGCAGACTTGAGGTCAGTGNNNNNNNNNTAGAGCATACGGCAGAAGACGAAC\n",
            "                                                                   <-------------------------------------------------|(4) R2.fastq.gz\n"
          ]
        }
      ]
    },
    {
      "cell_type": "code",
      "source": [],
      "metadata": {
        "id": "qEPBjhkeiIAr"
      },
      "execution_count": null,
      "outputs": []
    }
  ]
}
